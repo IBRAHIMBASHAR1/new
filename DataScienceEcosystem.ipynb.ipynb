{
 "cells": [
  {
   "cell_type": "markdown",
   "id": "b4d65ccd-8879-4b1f-9792-498c1658e118",
   "metadata": {},
   "source": [
    "# Data Science Tools and Ecosystem"
   ]
  },
  {
   "cell_type": "markdown",
   "id": "16048624-3779-460a-a0ed-9fd6148d64cc",
   "metadata": {},
   "source": [
    "INTRODUCTION\n",
    "\n",
    "In this notebook, Data Science Tools and Ecosystem are summarized.\n",
    "\n",
    "__OBJECTIVES__\n",
    "\n",
    "* R\n",
    "\n",
    "  * SQL\n",
    " \n",
    "  * Python"
   ]
  },
  {
   "cell_type": "markdown",
   "id": "949f5daa-6fcb-4566-9bea-3fac1adc6c46",
   "metadata": {},
   "source": [
    "Some of the popular languages that Data Scientists use are:\n",
    "\n",
    "i. Python\n",
    "\n",
    "ii. SQL\n",
    "\n",
    "iii. R\n",
    "\n",
    "iv. Visual Basic for Application\n",
    "\n",
    "v. Julia"
   ]
  },
  {
   "attachments": {},
   "cell_type": "markdown",
   "id": "1696f8a2-b91d-45b9-ab4b-03b473358a1d",
   "metadata": {},
   "source": [
    "Some of the commonly used libraries used by Data Scientists include:\n",
    "\n",
    "1. TensorFlow\n",
    "\n",
    "2. Numpy\n",
    "\n",
    "3. Scipy\n",
    "\n",
    "4. Panda\n",
    "\n",
    "5. Matplotlib"
   ]
  },
  {
   "cell_type": "markdown",
   "id": "ce51a208-7c15-46c4-8a71-138329490e95",
   "metadata": {},
   "source": [
    "| Data Science Tools|\n",
    "|:-----------------:|\n",
    "| Jupyter Notebook  |\n",
    "| Apache Sparks     |\n",
    "| Matplotlib        |"
   ]
  },
  {
   "cell_type": "markdown",
   "id": "4f045bc3-d53b-4a4a-bea5-fd90baabc862",
   "metadata": {},
   "source": [
    "### Below are a few examples of evaluating arithmetic expressions in Python"
   ]
  },
  {
   "cell_type": "code",
   "execution_count": 1,
   "id": "af53340c-6ec1-4848-a9ae-10fd3f4bf3b1",
   "metadata": {},
   "outputs": [
    {
     "data": {
      "text/plain": [
       "17"
      ]
     },
     "execution_count": 1,
     "metadata": {},
     "output_type": "execute_result"
    }
   ],
   "source": [
    "(3*4)+5 #This a simple arithmetic expression to mutiply then add integers."
   ]
  },
  {
   "cell_type": "code",
   "execution_count": 11,
   "id": "61640ae4-efbc-4cc7-b61a-36e82ff2a7fb",
   "metadata": {},
   "outputs": [],
   "source": [
    "hours = 200/60"
   ]
  },
  {
   "cell_type": "code",
   "execution_count": null,
   "id": "359e28c8-a617-4384-b1b9-8b24f0414460",
   "metadata": {
    "jp-MarkdownHeadingCollapsed": true
   },
   "outputs": [],
   "source": [
    "200/60 #This will convert 200 minutes to hours by diving by 60."
   ]
  },
  {
   "cell_type": "code",
   "execution_count": null,
   "id": "7374b91a-e116-4a40-ad0d-31c21ba21c17",
   "metadata": {},
   "outputs": [],
   "source": []
  },
  {
   "cell_type": "code",
   "execution_count": 12,
   "id": "be29d523-7f3a-4a0d-a7ed-4d9771ebf16e",
   "metadata": {},
   "outputs": [
    {
     "name": "stdout",
     "output_type": "stream",
     "text": [
      "3.3333333333333335\n"
     ]
    }
   ],
   "source": [
    "print(hours)"
   ]
  },
  {
   "cell_type": "markdown",
   "id": "dd315820-115a-4a52-aa31-3b6e9d538e6b",
   "metadata": {},
   "source": [
    "## Author\n",
    "\n",
    "Lakshmi Holla\r\n",
    "\r\n",
    "Niveditha Pandith"
   ]
  },
  {
   "cell_type": "code",
   "execution_count": null,
   "id": "c109e901-4ac8-4459-a554-6da8fde6653d",
   "metadata": {},
   "outputs": [],
   "source": []
  }
 ],
 "metadata": {
  "kernelspec": {
   "display_name": "Python 3 (ipykernel)",
   "language": "python",
   "name": "python3"
  },
  "language_info": {
   "codemirror_mode": {
    "name": "ipython",
    "version": 3
   },
   "file_extension": ".py",
   "mimetype": "text/x-python",
   "name": "python",
   "nbconvert_exporter": "python",
   "pygments_lexer": "ipython3",
   "version": "3.11.7"
  }
 },
 "nbformat": 4,
 "nbformat_minor": 5
}
